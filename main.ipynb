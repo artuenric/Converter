{
 "cells": [
  {
   "cell_type": "code",
   "execution_count": 1,
   "metadata": {},
   "outputs": [],
   "source": [
    "import os\n",
    "from PIL import Image"
   ]
  },
  {
   "cell_type": "code",
   "execution_count": 2,
   "metadata": {},
   "outputs": [],
   "source": [
    "def clear_folder(folder_path):\n",
    "    \"\"\"Remove todos os arquivos na pasta especificada.\"\"\"\n",
    "    for filename in os.listdir(folder_path):\n",
    "        file_path = os.path.join(folder_path, filename)\n",
    "        if os.path.isfile(file_path):\n",
    "            os.remove(file_path)\n",
    "\n",
    "def convert_images_to_webp(input_folder, output_folder):\n",
    "    \"\"\"Converte todas as imagens da pasta input_folder para .webp e salva na output_folder.\"\"\"\n",
    "    # Limpa a pasta de saída antes de começar\n",
    "    clear_folder(output_folder)\n",
    "\n",
    "    # Converte cada imagem da pasta de entrada\n",
    "    for filename in os.listdir(input_folder):\n",
    "        file_path = os.path.join(input_folder, filename)\n",
    "        if os.path.isfile(file_path) and filename.lower().endswith(('.jpg', '.jpeg', '.png')):\n",
    "            with Image.open(file_path) as img:\n",
    "                output_path = os.path.join(output_folder, f\"{os.path.splitext(filename)[0]}.webp\")\n",
    "                img.save(output_path, 'webp')\n",
    "                print(f\"Convertido: {filename} -> {output_path}\")\n",
    "\n",
    "    # Limpa a pasta de entrada após a conversão\n",
    "    clear_folder(input_folder)"
   ]
  },
  {
   "cell_type": "code",
   "execution_count": 3,
   "metadata": {},
   "outputs": [],
   "source": [
    "def main():\n",
    "    # Define os caminhos das pastas\n",
    "    input_folder = 'toconvert'\n",
    "    output_folder = 'converted'\n",
    "\n",
    "    # Cria as pastas se elas não existirem\n",
    "    os.makedirs(input_folder, exist_ok=True)\n",
    "    os.makedirs(output_folder, exist_ok=True)\n",
    "\n",
    "    # Converte as imagens\n",
    "    convert_images_to_webp(input_folder, output_folder)\n",
    "    print(\"Todas as imagens foram convertidas e a pasta de entrada foi limpa.\")"
   ]
  },
  {
   "cell_type": "code",
   "execution_count": 4,
   "metadata": {},
   "outputs": [
    {
     "name": "stdout",
     "output_type": "stream",
     "text": [
      "Todas as imagens foram convertidas e a pasta de entrada foi limpa.\n"
     ]
    }
   ],
   "source": [
    "if __name__ == \"__main__\":\n",
    "    main()"
   ]
  }
 ],
 "metadata": {
  "kernelspec": {
   "display_name": ".venv",
   "language": "python",
   "name": "python3"
  },
  "language_info": {
   "codemirror_mode": {
    "name": "ipython",
    "version": 3
   },
   "file_extension": ".py",
   "mimetype": "text/x-python",
   "name": "python",
   "nbconvert_exporter": "python",
   "pygments_lexer": "ipython3",
   "version": "3.12.0"
  }
 },
 "nbformat": 4,
 "nbformat_minor": 2
}
